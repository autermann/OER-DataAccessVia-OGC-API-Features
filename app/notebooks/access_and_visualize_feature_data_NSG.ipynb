{
 "cells": [
  {
   "cell_type": "markdown",
   "id": "79363010",
   "metadata": {},
   "source": [
    "## Using Python to interact with the OGC API Features service\n",
    "\n",
    "### 1. Imports and connectivity check"
   ]
  },
  {
   "cell_type": "markdown",
   "id": "3adc4a3f",
   "metadata": {},
   "source": [
    "##### 1.1 Importing Library Dependencies"
   ]
  },
  {
   "cell_type": "code",
   "execution_count": null,
   "id": "e3108e04",
   "metadata": {},
   "outputs": [],
   "source": [
    "# Import the Folium library, which is used for creating interactive maps in Python.\n",
    "import folium\n",
    "\n",
    "# Import the GeoPandas library, which is used for working with geospatial data in Python.\n",
    "import geopandas as gpd\n",
    "\n",
    "# Import the JSON library, which allows you to work with JSON data in Python.\n",
    "import json\n",
    "\n",
    "# Import the Matplotlib library, which is commonly used for creating static, interactive, and animated plots and charts.\n",
    "import matplotlib.pyplot as plt\n",
    "\n",
    "# Import the NumPy library, which provides support for large, multi-dimensional arrays and matrices, along with a collection of mathematical functions to operate on these arrays.\n",
    "import numpy as np\n",
    "\n",
    "# Import the Features class from the owslib.ogcapi.features module, which is used for working with OGC API Features, a web-based geospatial data service.\n",
    "from owslib.ogcapi.features import Features\n",
    "\n",
    "# Import the requests library, which is used for making HTTP requests in Python, enabling you to retrieve data from web services or APIs.\n",
    "import requests\n"
   ]
  },
  {
   "cell_type": "markdown",
   "id": "087f77a6",
   "metadata": {},
   "source": [
    "##### 1.2 To check PyGeoAPI connectivity from the notebook environment"
   ]
  },
  {
   "cell_type": "code",
   "execution_count": null,
   "id": "49419574",
   "metadata": {
    "scrolled": true
   },
   "outputs": [],
   "source": [
    "# To check whether the pygeoapi server is running\n",
    "# Set the endpoint URL following the format: http://pygeoapi:<port_number>\n",
    "\n",
    "# If you map the internal port 80 of the pygeoapi server to port 5000 of your host machine, \n",
    "# the server won't be reachable via the localhost address from another docker container. \n",
    "# The reason for this is that every single Docker container has it's own localhost. \n",
    "# So if your Jupyter Notebook container aims to request a service with a localhost address, it will request the\n",
    "# service on it's internal host and not the host of your computer/server.\n",
    "# So the strategy we were using for browser access or creating a connection from QGIS software, will not work here.\n",
    "# To be precise http://localhost:5000 url will not work in this case.\n",
    "# \n",
    "# Fortunately, Docker has a dedicated networking concept, which supports networking between containers. \n",
    "# There is a great tutorial that describes how to network your containers: \n",
    "# https://docs.docker.com/engine/tutorials/networkingcontainers/\n",
    "\n",
    "endpoint = \"http://pygeoapi:80\"\n",
    "response = requests.get(endpoint)\n",
    "if response.status_code == 200:\n",
    "    print(\"pygeoapi server is running!\")\n",
    "else:\n",
    "    print(\"pygeoapi server is not running.\")\n"
   ]
  },
  {
   "cell_type": "markdown",
   "id": "1bf86a5d",
   "metadata": {},
   "source": [
    "### 2. Data access "
   ]
  },
  {
   "cell_type": "markdown",
   "id": "83e047c5",
   "metadata": {},
   "source": [
    "##### 2.1 To list the collections available in the server instance"
   ]
  },
  {
   "cell_type": "code",
   "execution_count": null,
   "id": "70e8cde0",
   "metadata": {},
   "outputs": [],
   "source": [
    "# Initialize a connection to a GeoSpatial API at 'http://pygeoapi:80',\n",
    "# retrieve a list of available data collections (e.g., datasets, layers),\n",
    "# and print the collections in JSON format with proper indentation.\n",
    "feature_dataset = Features('http://pygeoapi:80')\n",
    "collections = feature_dataset.collections() \n",
    "print(json.dumps(collections, indent=4))"
   ]
  },
  {
   "cell_type": "markdown",
   "id": "ff6443b8",
   "metadata": {},
   "source": [
    "##### 2.2 To access the landing page of a specific collection; that provides you with the metadata of the collection"
   ]
  },
  {
   "cell_type": "code",
   "execution_count": null,
   "id": "64fc086e",
   "metadata": {},
   "outputs": [],
   "source": [
    "\n",
    "protected_sites = feature_dataset.collection('NSG')\n",
    "print(json.dumps(protected_sites, indent=2))"
   ]
  },
  {
   "cell_type": "markdown",
   "id": "35fc711b",
   "metadata": {},
   "source": [
    "##### 2.3 View the queryable parameters and their datatypes"
   ]
  },
  {
   "cell_type": "code",
   "execution_count": null,
   "id": "9d4f8d99",
   "metadata": {},
   "outputs": [],
   "source": [
    "# View the queryable parameters available in the dataset.\n",
    "protected_sites_queryables = feature_dataset.collection_queryables('NSG')\n",
    "print(json.dumps(protected_sites_queryables, indent=2))"
   ]
  },
  {
   "cell_type": "markdown",
   "id": "278e1dd8",
   "metadata": {},
   "source": [
    "##### 2.4 Access items (Features) of the NSG Feature Collection"
   ]
  },
  {
   "cell_type": "code",
   "execution_count": null,
   "id": "f3a9b18f",
   "metadata": {},
   "outputs": [],
   "source": [
    "protected_sites_items = feature_dataset.collection_items('NSG') \n",
    "print(json.dumps(protected_sites_items, indent=4))\n",
    "\n",
    "# Note: The default paging strategy is set to 10; so only the first 10 Features are returned"
   ]
  },
  {
   "cell_type": "markdown",
   "id": "15a432f2",
   "metadata": {},
   "source": [
    "##### 2.5 Assign the response of a feature request to a variable"
   ]
  },
  {
   "cell_type": "code",
   "execution_count": null,
   "id": "329448f5",
   "metadata": {},
   "outputs": [],
   "source": [
    "# Store the queried feature items\n",
    "protected_sites_features = protected_sites_items['features']\n",
    "\n",
    "# To access a feature from the stored variable\n",
    "protected_sites_features[0]"
   ]
  },
  {
   "cell_type": "markdown",
   "id": "be6901a0",
   "metadata": {},
   "source": [
    "##### 2.6 To access items of a dataset using a customized PyGeoAPI endpoint"
   ]
  },
  {
   "cell_type": "code",
   "execution_count": null,
   "id": "6c6bacf0",
   "metadata": {},
   "outputs": [],
   "source": [
    "# In the following access url I am setting the page limit from 10 to 100. Now 100 features in NSG dataset can be obsererved \n",
    "# in the response. Using the same url signature one can explore the queryables to filter out a subset of information. \n",
    "# For example; after ? if we add VOLLZUG=Landkreis Cloppenburg; the resulting response wiil select the \n",
    "# NSGs that are under the jurisdiction of the Cloppenburg district.\n",
    "\n",
    "pygeoapi_url_to_access_dataset = \"http://pygeoapi:80/collections/NSG/items?limit=1000\"\n",
    "\n",
    "# Make an HTTP GET request to fetch the GeoJSON data\n",
    "response = requests.get(pygeoapi_url_to_access_dataset)\n",
    "nsg_json_data = response.json()\n",
    "print(nsg_json_data)\n",
    "# This may take 10-15 seconds"
   ]
  },
  {
   "cell_type": "markdown",
   "id": "2c5b2214",
   "metadata": {},
   "source": [
    "##### 2.7 Loading the data in a Geopandas Dataframe"
   ]
  },
  {
   "cell_type": "code",
   "execution_count": null,
   "id": "0ecf9b3b",
   "metadata": {},
   "outputs": [],
   "source": [
    "# Create a GeoDataFrame directly from the GeoJSON data\n",
    "# Advantages of using a GeoPandas DataFrame:\n",
    "# 1. Geospatial Operations: Easily perform geospatial operations such as spatial joins, buffers, and overlays.\n",
    "# 2. Data Visualization: Seamlessly visualize geographic data with built-in plotting capabilities.\n",
    "# 3. Interoperability: GeoPandas supports multiple geospatial formats, making it easy to work with various data sources.\n",
    "# 4. Integration: GeoPandas integrates geospatial data with tabular data, simplifying analysis.\n",
    "# 5. Data Cleaning: Another important capability we get with Geopandas is an opportunity to remove redundant columns and records thats are outdated,\n",
    "#    or contains error or is not relevant to the present data analysis task under consideration. Python provides this data cleaning \n",
    "#    capability with its Pandas library which has been extended to Geopandas as well.\n",
    "\n",
    "nsg_data = gpd.GeoDataFrame.from_features(nsg_json_data['features'])\n",
    "print(nsg_data)"
   ]
  },
  {
   "cell_type": "markdown",
   "id": "7ae5eba0",
   "metadata": {},
   "source": [
    "### 3. Data Visualizations with Interactive Plots"
   ]
  },
  {
   "cell_type": "markdown",
   "id": "101935df",
   "metadata": {},
   "source": [
    "##### 3.1 Plotting the Geomemtries for the NSG Dataset on the leaflet basemap"
   ]
  },
  {
   "cell_type": "code",
   "execution_count": null,
   "id": "33320ed4",
   "metadata": {},
   "outputs": [],
   "source": [
    "# Set the CRS for your GeoDataFrame (assuming it's EPSG 4647)\n",
    "nsg_data.crs = 'EPSG:4647'\n",
    "\n",
    "# Create a base map centered around the geometries\n",
    "map_center = nsg_data.union_all().centroid\n",
    "m = folium.Map(location=[map_center.y, map_center.x], zoom_start=9)\n",
    "\n",
    "# Style function to make the geometries deep blue\n",
    "def style_function(feature):\n",
    "    return {\n",
    "        'fillColor': 'red',  # Fill color\n",
    "        'color': 'red',      # Border color\n",
    "        'weight': 2,                # Border width\n",
    "        'fillOpacity': 0.6          # Fill opacity\n",
    "    }\n",
    "\n",
    "# Iterate through the GeoDataFrame and add geometries to the map\n",
    "for index, row in nsg_data.iterrows():\n",
    "    folium.GeoJson(\n",
    "        row['geometry'],\n",
    "        style_function=style_function\n",
    "    ).add_to(m)\n",
    "\n",
    "# Save the map to an HTML file or display it in a Jupyter Notebook\n",
    "# m.save('interactive_map.html')  # Save as an HTML file\n",
    "m \n",
    "# This may take 10-15 seconds"
   ]
  },
  {
   "cell_type": "markdown",
   "id": "624b018c",
   "metadata": {},
   "source": [
    "##### 3.2 Using a spatial filter to query out datapoints within the Municipality of Lorup"
   ]
  },
  {
   "cell_type": "code",
   "execution_count": null,
   "id": "8fef3bd7",
   "metadata": {},
   "outputs": [],
   "source": [
    "\n",
    "# Specify the URL of your PyGeoAPI feature dataset with a spatial filter 'bbox'\n",
    "pygeoapi_url_to_access_queried_dataset_for_lorup = \"http://pygeoapi:80/collections/NSG/items?bbox=7.4460,52.8722,7.8532,53.0138\"\n",
    "# Make an HTTP GET request to fetch the GeoJSON data\n",
    "response = requests.get(pygeoapi_url_to_access_queried_dataset_for_lorup)\n",
    "nsg_json_data_lorup = response.json()\n",
    "nsg_feature_data_lorup = gpd.GeoDataFrame.from_features(nsg_json_data_lorup['features'])\n",
    "print(nsg_feature_data_lorup)\n"
   ]
  },
  {
   "cell_type": "code",
   "execution_count": null,
   "id": "2143fabb",
   "metadata": {},
   "outputs": [],
   "source": [
    "# Set the CRS for your GeoDataFrame (assuming it's EPSG 4647)\n",
    "nsg_feature_data_lorup.crs = 'EPSG:4647'\n",
    "\n",
    "# Create a base map centered around the geometries\n",
    "map_center = nsg_feature_data_lorup.union_all().centroid\n",
    "m = folium.Map(location=[map_center.y, map_center.x], zoom_start=9)\n",
    "\n",
    "# Style function to make the geometries deep blue\n",
    "def style_function(feature):\n",
    "    return {\n",
    "        'fillColor': 'red',  # Fill color\n",
    "        'color': 'red',      # Border color\n",
    "        'weight': 2,                # Border width\n",
    "        'fillOpacity': 0.6          # Fill opacity\n",
    "    }\n",
    "\n",
    "# Iterate through the GeoDataFrame and add geometries to the map\n",
    "for index, row in nsg_feature_data_lorup.iterrows():\n",
    "    folium.GeoJson(\n",
    "        row['geometry'],\n",
    "        style_function=style_function\n",
    "    ).add_to(m)\n",
    "\n",
    "# Save the map to an HTML file or display it in a Jupyter Notebook\n",
    "# m.save('interactive_map.html')  # Save as an HTML file\n",
    "m \n",
    "# This may take 10-15 seconds"
   ]
  },
  {
   "cell_type": "markdown",
   "id": "8e4cbdce",
   "metadata": {},
   "source": [
    "##### 3.3 Adding buffer zone around the geometries for better data visualization"
   ]
  },
  {
   "cell_type": "code",
   "execution_count": null,
   "id": "7ad36fe6",
   "metadata": {},
   "outputs": [],
   "source": [
    "nsg_feature_data_lorup.crs = 'EPSG:4647'\n",
    "\n",
    "# Create a base map centered around the geometries\n",
    "map_center = nsg_feature_data_lorup.union_all().centroid\n",
    "m = folium.Map(location=[map_center.y, map_center.x], zoom_start=9)\n",
    "\n",
    "# Style function for the original geometries\n",
    "def style_function_geom(feature):\n",
    "    return {\n",
    "        'fillColor': 'red',  # Fill color for geometries\n",
    "        'color': 'red',      # Border color for geometries\n",
    "        'weight': 2,                # Border width for geometries\n",
    "        'fillOpacity': 0.6          # Fill opacity for geometries\n",
    "    }\n",
    "\n",
    "# Style function for the buffer areas\n",
    "def style_function_buffer(feature):\n",
    "    return {\n",
    "        'fillColor': 'red',         # Fill color for buffer areas\n",
    "        'color': 'red',             # Border color for buffer areas\n",
    "        'weight': 2,                # Border width for buffer areas\n",
    "        'fillOpacity': 0.6          # Fill opacity for buffer areas\n",
    "    }\n",
    "\n",
    "# Buffer function to create a buffer around the geometries\n",
    "def create_buffer(geometry, buffer_distance):\n",
    "    return geometry.buffer(buffer_distance)\n",
    "\n",
    "# Iterate through the GeoDataFrame, add buffer areas, and add them to the map\n",
    "buffer_distance = 0.02  # Adjust the buffer distance as needed\n",
    "for index, row in nsg_feature_data_lorup.iterrows():\n",
    "    buffered_geometry = create_buffer(row['geometry'], buffer_distance)\n",
    "    \n",
    "    # Add the original geometries with style\n",
    "    folium.GeoJson(\n",
    "        data={\n",
    "            'type': 'Feature',\n",
    "            'geometry': row['geometry'].__geo_interface__,\n",
    "            'properties': {},\n",
    "        },\n",
    "        style_function=style_function_geom\n",
    "    ).add_to(m)\n",
    "\n",
    "    # Add the buffered geometries with style\n",
    "    folium.GeoJson(\n",
    "        data={\n",
    "            'type': 'Feature',\n",
    "            'geometry': buffered_geometry.__geo_interface__,\n",
    "            'properties': {},\n",
    "        },\n",
    "        style_function=style_function_buffer\n",
    "    ).add_to(m)\n",
    "\n",
    "# Save the map to an HTML file or display it in a Jupyter Notebook\n",
    "# m.save('interactive_map_with_buffer.html')  # Save as an HTML file\n",
    "m\n",
    "\n",
    "# Note: The buffer zones has multiple practical usecases. For example, let us assume that we have been assigned an objective to figure\n",
    "# out regions suitable for establishing wind farms. Now, one important constraint for setting up such a farm is to keep it away from\n",
    "# wild life, reserve forests, sanctuaries and protected sites. The constraint is imposed to ensure that the wind farms do not affect\n",
    "# the wild life and vegetation in the particular region. In such a scenario it becomes inevitable to maintain a certain buffer region \n",
    "# around the protected sites; so that while selecting and shortlisting areas suitable for wind farm installation  the concerned person \n",
    "# can discard the proposed regions which intersects with the buffer zone geometries.    "
   ]
  },
  {
   "cell_type": "markdown",
   "id": "c93d44f2-e1db-4876-80fc-d3314219c9e1",
   "metadata": {},
   "source": [
    "**End of this exercise, please continue with the PDF/H5P content of the lerning material..**"
   ]
  }
 ],
 "metadata": {
  "kernelspec": {
   "display_name": "Python 3 (ipykernel)",
   "language": "python",
   "name": "python3"
  },
  "language_info": {
   "codemirror_mode": {
    "name": "ipython",
    "version": 3
   },
   "file_extension": ".py",
   "mimetype": "text/x-python",
   "name": "python",
   "nbconvert_exporter": "python",
   "pygments_lexer": "ipython3",
   "version": "3.11.6"
  }
 },
 "nbformat": 4,
 "nbformat_minor": 5
}
